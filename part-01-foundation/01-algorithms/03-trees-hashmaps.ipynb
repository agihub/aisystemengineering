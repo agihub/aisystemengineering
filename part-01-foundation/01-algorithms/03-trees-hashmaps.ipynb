{
 "cells": [
  {
   "cell_type": "markdown",
   "id": "3667953a",
   "metadata": {},
   "source": [
    "# Setup"
   ]
  },
  {
   "cell_type": "code",
   "execution_count": 1,
   "id": "0d2ff375",
   "metadata": {},
   "outputs": [],
   "source": [
    "import time\n",
    "import math\n",
    "import matplotlib.pyplot as plt\n",
    "import numpy as np\n",
    "import random as rnd\n",
    "np.random.seed(123)\n",
    "rnd.seed(123)"
   ]
  },
  {
   "cell_type": "markdown",
   "id": "4b0a20ec",
   "metadata": {},
   "source": [
    "# Trees: Theory"
   ]
  },
  {
   "cell_type": "code",
   "execution_count": null,
   "id": "741ba7a1",
   "metadata": {},
   "outputs": [],
   "source": []
  }
 ],
 "metadata": {
  "kernelspec": {
   "display_name": "Python 3",
   "language": "python",
   "name": "python3"
  },
  "language_info": {
   "codemirror_mode": {
    "name": "ipython",
    "version": 3
   },
   "file_extension": ".py",
   "mimetype": "text/x-python",
   "name": "python",
   "nbconvert_exporter": "python",
   "pygments_lexer": "ipython3",
   "version": "3.8.3"
  }
 },
 "nbformat": 4,
 "nbformat_minor": 5
}
