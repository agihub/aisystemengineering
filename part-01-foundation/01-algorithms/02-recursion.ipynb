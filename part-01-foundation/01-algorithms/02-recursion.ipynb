{
 "cells": [
  {
   "cell_type": "markdown",
   "id": "5f1f8724",
   "metadata": {},
   "source": [
    "# Setup"
   ]
  },
  {
   "cell_type": "code",
   "execution_count": 1,
   "id": "f507dfee",
   "metadata": {},
   "outputs": [],
   "source": [
    "import time\n",
    "import math\n",
    "import matplotlib.pyplot as plt\n",
    "import numpy as np\n",
    "import random as rnd\n",
    "np.random.seed(123)\n",
    "rnd.seed(123)"
   ]
  },
  {
   "cell_type": "markdown",
   "id": "77532be9",
   "metadata": {},
   "source": [
    "# Recursion: Theory (TODO)\n",
    "- Divide and Conquer\n",
    "- Mathematical Induction\n",
    "- Recursive Algorithm structure\n",
    "    - Base case\n",
    "    - Recursive case\n",
    "- Combinatorial Objects\n",
    "    - Permutations\n",
    "    - Arrengements\n",
    "    - Combinations"
   ]
  },
  {
   "cell_type": "markdown",
   "id": "95aae975",
   "metadata": {},
   "source": [
    "# Problems and Solutions"
   ]
  },
  {
   "cell_type": "markdown",
   "id": "9e6bb53c",
   "metadata": {
    "toc-hr-collapsed": true
   },
   "source": [
    "## Pow(x,n)\n",
    "Implement pow(x, n), that calculates x raised to the power n (i.e., x^n)\n",
    "\n",
    "Since the value can be quite large, return value % 1000000007\n",
    "\n",
    "#### Constraints:\n",
    "\n",
    "    -100.0 < x < 100.0\n",
    "    -2^31 <= n <= 2^31-1\n",
    "\n",
    "\n",
    "#### Example 1:\n",
    "```\n",
    "Input: x = 2.00000, n = 10\n",
    "Output: 1024.00000\n",
    "```\n",
    "#### Example 2:\n",
    "```\n",
    "Input: x = 2.10000, n = 3\n",
    "Output: 9.26100\n",
    "```\n",
    "\n",
    "#### Example 3:\n",
    "```\n",
    "Input: x = 2.00000, n = -2\n",
    "Output: 0.25000\n",
    "Explanation: 2^-2 = 1/2^2 = 1/4 = 0.25\n",
    "```"
   ]
  },
  {
   "cell_type": "markdown",
   "id": "8055faa5",
   "metadata": {},
   "source": [
    "### Solution 1: Bruteforce\n",
    "#### Description\n",
    "In the naive implementation one can multiply x by x n time in a cycle\n",
    "\n",
    "#### Complexity Analysis\n",
    "- TC O(n)\n",
    "- SC O(c)"
   ]
  },
  {
   "cell_type": "code",
   "execution_count": 9,
   "id": "387e2247",
   "metadata": {},
   "outputs": [],
   "source": [
    "def pow_bf(x, n):\n",
    "    if n == 0:\n",
    "        return 1\n",
    "    result = x\n",
    "    for idx in range(abs(n)-1):\n",
    "        result = (result * x) % 1000000123\n",
    "    return result if n > 0 else 1.0/result"
   ]
  },
  {
   "cell_type": "code",
   "execution_count": 10,
   "id": "298a3d5c",
   "metadata": {},
   "outputs": [],
   "source": [
    "assert pow_bf(2,10) == 1024\n",
    "assert pow_bf(2,-10) == 1/1024"
   ]
  },
  {
   "cell_type": "markdown",
   "id": "be8f8956",
   "metadata": {},
   "source": [
    "### Solution 2: Recursive\n",
    "#### Description\n",
    "Optimized recursive implementation that splits N by 2 for each recursive call\n",
    "\n",
    "#### Complexity Analysis\n",
    "- TC O(logn)\n",
    "- SC O(logn) "
   ]
  },
  {
   "cell_type": "code",
   "execution_count": 11,
   "id": "0147766d",
   "metadata": {},
   "outputs": [],
   "source": [
    "def pow_rec(x, n):\n",
    "    def helper(x, an):\n",
    "        # base cases\n",
    "        if an == 0:\n",
    "            return 1\n",
    "        if an == 1:\n",
    "            return x\n",
    "        # recursive cases\n",
    "        p = helper(x, an//2)\n",
    "        result = (p*p if an % 2 == 0 else p*p*x) % 1000000123\n",
    "        return result\n",
    "            \n",
    "    an = abs(n)\n",
    "    result = helper(x, an)\n",
    "    return result if n >= 0 else 1.0/result"
   ]
  },
  {
   "cell_type": "code",
   "execution_count": 12,
   "id": "ec2602e1",
   "metadata": {},
   "outputs": [],
   "source": [
    "assert pow_rec(2,10) == 1024\n",
    "assert pow_rec(2,-10) == 1/1024"
   ]
  },
  {
   "cell_type": "code",
   "execution_count": 26,
   "id": "c7887dcd",
   "metadata": {},
   "outputs": [
    {
     "name": "stdout",
     "output_type": "stream",
     "text": [
      "Bruteforce: execution time to calculate 10000 times pow (2,10) took 0.01sec\n",
      "Bruteforce: execution time to calculate 10000 times pow (2,-10) took 0.01sec\n",
      "Bruteforce: execution time to calculate 10000 times pow (10,1000) took 0.82sec\n",
      "Bruteforce: execution time to calculate 10000 times pow (10,-1000) took 0.83sec\n",
      "Recursive - LogN: execution time to calculate 10000 times pow (2,10) took 0.01sec\n",
      "Recursive - LogN: execution time to calculate 10000 times pow (2,-10) took 0.01sec\n",
      "Recursive - LogN: execution time to calculate 10000 times pow (10,1000) took 0.02sec\n",
      "Recursive - LogN: execution time to calculate 10000 times pow (10,-1000) took 0.02sec\n"
     ]
    }
   ],
   "source": [
    "for name, f in [('Bruteforce', pow_bf), ('Recursive - LogN', pow_rec)]:\n",
    "    for x, n in [(2, 10), (2, -10), (10,1000), (10,-1000)]:\n",
    "        tik = time.time()\n",
    "        C = 10000\n",
    "        for idx in range(C):\n",
    "            f(x, n)\n",
    "        tak = time.time()\n",
    "        print(f'{name}: execution time to calculate {C} times pow ({x},{n}) took {tak-tik:3.2f}sec')\n"
   ]
  },
  {
   "cell_type": "markdown",
   "id": "8159c636",
   "metadata": {},
   "source": [
    "### Summary\n",
    "Recursive Log N implementation is 40+ times faster for calculate 10 to 1000th power, which is expected"
   ]
  },
  {
   "cell_type": "markdown",
   "id": "2ab79d41",
   "metadata": {},
   "source": [
    "# References (TODO)\n",
    "- https://www.amazon.in/Algorithms-Algorithms_4-Robert-Sedgewick-ebook/dp/B004P8J1NA/ref=reads_cwrtbar_3/262-3455488-2782454?pd_rd_w=efG0Y&pf_rd_p=8fdaa95f-a9e0-4a06-968f-c431439eafe4&pf_rd_r=RTDV52S0A6V24WRVEAD7&pd_rd_r=3e53035a-7e62-4102-a069-3e7ca47b68a0&pd_rd_wg=d7jsQ&pd_rd_i=B004P8J1NA&psc=1"
   ]
  },
  {
   "cell_type": "code",
   "execution_count": null,
   "id": "2eeedc26",
   "metadata": {},
   "outputs": [],
   "source": []
  }
 ],
 "metadata": {
  "kernelspec": {
   "display_name": "Python 3",
   "language": "python",
   "name": "python3"
  },
  "language_info": {
   "codemirror_mode": {
    "name": "ipython",
    "version": 3
   },
   "file_extension": ".py",
   "mimetype": "text/x-python",
   "name": "python",
   "nbconvert_exporter": "python",
   "pygments_lexer": "ipython3",
   "version": "3.8.3"
  }
 },
 "nbformat": 4,
 "nbformat_minor": 5
}
