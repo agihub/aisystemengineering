{
 "cells": [
  {
   "cell_type": "markdown",
   "id": "222d0214",
   "metadata": {},
   "source": [
    "# Setup"
   ]
  },
  {
   "cell_type": "code",
   "execution_count": 3,
   "id": "d726b1d6",
   "metadata": {},
   "outputs": [],
   "source": [
    "import time\n",
    "import math\n",
    "import matplotlib.pyplot as plt\n",
    "import numpy as np\n",
    "import random as rnd\n",
    "np.random.seed(123)\n",
    "rnd.seed(123)"
   ]
  },
  {
   "cell_type": "markdown",
   "id": "d0122305",
   "metadata": {},
   "source": [
    "# Trees and Hash Tables: Theory\n",
    "- Trees\n",
    "- Hash Tables"
   ]
  },
  {
   "cell_type": "markdown",
   "id": "3ebb3403",
   "metadata": {},
   "source": [
    "## Base Algorithms\n",
    "- Binary Search Tree \n",
    "    - search\n",
    "    - add\n",
    "    - remove\n",
    "    - traverse: BFS\n",
    "    - traverse: DFS (preorder, inorder, postorder)\n",
    "    - predecessor, successor\n",
    "    - reconstruct BST\n",
    "    \n",
    "- Hash tables\n",
    "    - search\n",
    "    - add\n",
    "    - remove"
   ]
  },
  {
   "cell_type": "code",
   "execution_count": null,
   "id": "99bd8dce",
   "metadata": {},
   "outputs": [],
   "source": []
  },
  {
   "cell_type": "markdown",
   "id": "4d5fa42b",
   "metadata": {},
   "source": [
    "# Sample Problems and Solutions"
   ]
  },
  {
   "cell_type": "markdown",
   "id": "6ea77843",
   "metadata": {},
   "source": [
    "## Largest BST\n",
    "### Description\n",
    "Given a tree, find largest Binary Search Tree among all possible subtrees"
   ]
  },
  {
   "cell_type": "markdown",
   "id": "c1facce1",
   "metadata": {},
   "source": [
    "### Solution"
   ]
  },
  {
   "cell_type": "code",
   "execution_count": 2,
   "id": "7500c9ff",
   "metadata": {},
   "outputs": [],
   "source": [
    "# Assume:\n",
    "class Node():\n",
    "    def __init__(self, v=None, l=None, r=None):\n",
    "        self.v = val\n",
    "        self.l = l\n",
    "        self.r = r\n",
    "\n",
    "# complete the function below\n",
    "\n",
    "def find_largest_bst(root):\n",
    "    if root == None:\n",
    "        return 0\n",
    "        \n",
    "    def _helper(node):\n",
    "        # base\n",
    "        if node.l == None and node.r == None:\n",
    "            return 1, True, node.v, node.v\n",
    "        \n",
    "        # recursive part\n",
    "        \n",
    "        ## check children\n",
    "        if node.l != None:\n",
    "            lval, lbst, llo, lhi = _helper(node.l)\n",
    "        else:\n",
    "            lval, lbst, llo, lhi = 0, True, node.v, node.v\n",
    "        if node.r != None:\n",
    "            rval, rbst, rlo, rhi = _helper(node.r)\n",
    "        else:\n",
    "            rval, rbst, rlo, rhi = 0, True, node.v, node.v\n",
    "            \n",
    "        ## combine results\n",
    "        if lhi <= node.v and node.v <= rlo and lbst and rbst:\n",
    "            return 1 + lval + rval, True, llo, rhi\n",
    "        else:\n",
    "            return max(lval, rval), False, llo, rhi\n",
    "\n",
    "        \n",
    "    val, bst, lo, hi = _helper(root)\n",
    "    return val"
   ]
  },
  {
   "cell_type": "code",
   "execution_count": null,
   "id": "93ebbec2",
   "metadata": {},
   "outputs": [],
   "source": []
  },
  {
   "attachments": {
    "fef4a0f5-c15e-4c93-a676-0c4515de2699.png": {
     "image/png": "[encoded data removed]"
    }
   },
   "cell_type": "markdown",
   "id": "4ebcd153",
   "metadata": {},
   "source": [
    "## Reconstruct Binary Tree\n",
    "### Description\n",
    "Given two arrays with in-order and pre-order traversals, construct binary tree.\n",
    "\n",
    "\n",
    "### Example\n",
    "Input: \n",
    "- preorder = [1,2,3,4,5], inorder = [2,1,4,3,5]\n",
    "\n",
    "Output:\n",
    "\n",
    "![image.png](attachment:fef4a0f5-c15e-4c93-a676-0c4515de2699.png)\n",
    "\n",
    "### Solution"
   ]
  },
  {
   "cell_type": "code",
   "execution_count": 1,
   "id": "0e89e740",
   "metadata": {},
   "outputs": [],
   "source": [
    "class Node():\n",
    "    def __init__(self, v=None, l=None, r=None):\n",
    "        self.v = val\n",
    "        self.l = l\n",
    "        self.r = r\n",
    "\n",
    "def reconstruct_binary_tree(inorder, preorder):\n",
    "    indices = {v: idx for idx, v in enumerate(inorder)}\n",
    "\n",
    "    def _helper(il, ir, pl, pr):\n",
    "        # base case\n",
    "        if pl > pr:\n",
    "            return None\n",
    "\n",
    "        root = Node(preorder[pl])\n",
    "        \n",
    "        # recursive\n",
    "\n",
    "        idx = indices[preorder[pl]]\n",
    "        lsize = idx - il\n",
    "        rsize = ir - idx\n",
    "        root.l = _helper(il=il, ir=idx - 1, pl=pl + 1, pr=pl + lsize)\n",
    "        root.r = _helper(il=idx + 1, ir=ir, pl=pl + lsize + 1, pr=pr)\n",
    "        return root\n",
    "\n",
    "    result = _helper(0, len(inorder) - 1, 0, len(preorder) - 1)\n",
    "    return result\n"
   ]
  },
  {
   "cell_type": "code",
   "execution_count": null,
   "id": "e3639592",
   "metadata": {},
   "outputs": [],
   "source": []
  }
 ],
 "metadata": {
  "kernelspec": {
   "display_name": "Python 3",
   "language": "python",
   "name": "python3"
  },
  "language_info": {
   "codemirror_mode": {
    "name": "ipython",
    "version": 3
   },
   "file_extension": ".py",
   "mimetype": "text/x-python",
   "name": "python",
   "nbconvert_exporter": "python",
   "pygments_lexer": "ipython3",
   "version": "3.8.3"
  }
 },
 "nbformat": 4,
 "nbformat_minor": 5
}
